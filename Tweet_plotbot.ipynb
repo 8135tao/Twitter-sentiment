{
 "cells": [
  {
   "cell_type": "code",
   "execution_count": 3,
   "metadata": {},
   "outputs": [],
   "source": [
    "# Dependencies\n",
    "import tweepy\n",
    "import pandas as pd\n",
    "from vaderSentiment.vaderSentiment import SentimentIntensityAnalyzer\n",
    "analyzer = SentimentIntensityAnalyzer() \n",
    "import matplotlib.pyplot as plt\n",
    "from matplotlib import style\n",
    "style.use('ggplot')\n",
    "\n",
    "\n",
    "\n",
    "import time\n",
    "import json\n",
    "import requests as req\n",
    "from datetime import datetime\n"
   ]
  },
  {
   "cell_type": "code",
   "execution_count": 4,
   "metadata": {},
   "outputs": [],
   "source": [
    "# Twitter API Keys\n",
    "# import consumer_key, consumer_secret, access_token, access_token_secret\n",
    "# consumer_key = \"HUIAGvvNQHFVCfgrxPf5bTGF7\"\n",
    "# consumer_secret = \"cSTRKvgkocxdt6kS3hVfJwaYjuNEfVPFPaNqJcUphbM7jDHQxu\"\n",
    "# access_token = \"2690064128-wcSMl9vVnZMDz7d6lTNjUhJaoFwaIanqPUrJdbl\"\n",
    "# access_token_secret = \"8q5J11E0byn1iFamGwWiwplnZNWPFvGDWhc4M7h36MCwY\"\n",
    "\n"
   ]
  },
  {
   "cell_type": "code",
   "execution_count": 5,
   "metadata": {},
   "outputs": [
    {
     "name": "stdout",
     "output_type": "stream",
     "text": [
      "HUIAGvvNQHFVCfgrxPf5bTGF7\n",
      "cSTRKvgkocxdt6kS3hVfJwaYjuNEfVPFPaNqJcUphbM7jDHQxu\n",
      "2690064128-wcSMl9vVnZMDz7d6lTNjUhJaoFwaIanqPUrJdbl\n",
      "8q5J11E0byn1iFamGwWiwplnZNWPFvGDWhc4M7h36MCwY\n"
     ]
    }
   ],
   "source": [
    "consumer_key = os.environ.get(\"consumer_key\")\n",
    "consumer_secret = os.environ.get(\"consumer_secret\")\n",
    "access_token = os.environ.get(\"access_token\")\n",
    "access_token_secret = os.environ.get(\"access_token_secret\")\n",
    "# print(consumer_key)\n",
    "# print(consumer_secret)\n",
    "# print(access_token)\n",
    "# print(access_token_secret)"
   ]
  },
  {
   "cell_type": "code",
   "execution_count": 6,
   "metadata": {},
   "outputs": [],
   "source": [
    "\n",
    "auth = tweepy.OAuthHandler(consumer_key, consumer_secret)\n",
    "auth.set_access_token(access_token, access_token_secret)\n",
    "api = tweepy.API(auth, parser=tweepy.parsers.JSONParser())\n"
   ]
  },
  {
   "cell_type": "code",
   "execution_count": null,
   "metadata": {},
   "outputs": [],
   "source": []
  },
  {
   "cell_type": "code",
   "execution_count": 118,
   "metadata": {},
   "outputs": [],
   "source": [
    "# create function that does the sentiment analysis\n",
    "target_account_set = set([])\n",
    "\n",
    "\n",
    "def TweetBot():\n",
    "   \n",
    "    #last_status = 0\n",
    "    \n",
    "    mentions = api.search(q=\"@tao6178 Analyze:\")\n",
    "    #, since_id = 1047324147112656896)\n",
    "    words = []\n",
    "    oldest_tweet = None\n",
    "    #print(mentions)\n",
    "    #print(json.dumps(mentions,sort_keys=True,indent=4))\n",
    "    #print(mentions[\"statuses\"][0][\"user\"][\"name\"])\n",
    "    try:\n",
    "        command = mentions[\"statuses\"][0][\"text\"]\n",
    "        words = command.split(\"Analyze:\")\n",
    "        target_account = words[1].strip()\n",
    "        #target_account = \"@WSJ\"\n",
    "        helper = mentions[\"statuses\"][0][\"user\"][\"name\"]\n",
    "        print(f\"analysis for target_account: {target_account} at the request of @{helper}\")\n",
    "        \n",
    "        if target_account not in target_account_set:\n",
    "            target_account_set.add(target_account)\n",
    "            counter = 0\n",
    "            sentiments =[]\n",
    "            results =[]\n",
    "            for x in range(1):\n",
    "\n",
    "                \n",
    "                user_tweets = api.user_timeline(target_account, max_id = oldest_tweet)\n",
    "\n",
    "                # Loop through tweets\n",
    "                for tweet in user_tweets:\n",
    "                    results = analyzer.polarity_scores(tweet[\"text\"])\n",
    "                    cpd = results[\"compound\"]\n",
    "                    pos = results[\"pos\"]\n",
    "                    neu = results[\"neu\"]\n",
    "                    neg = results[\"neg\"]\n",
    "                    counter += 1\n",
    "                    oldest_tweet = tweet['id'] - 1\n",
    "                    \n",
    "                    sentiments.append({\"Date\": tweet[\"created_at\"], \n",
    "                               \"Compound\": cpd,\n",
    "                               \"Positive\": pos,\n",
    "                               \"Negative\": neg,\n",
    "                               \"Neutral\": neu,\n",
    "                               \"Tweets Ago\": counter})\n",
    "            \n",
    "            sentiments_pd = pd.DataFrame(sentiments)\n",
    "            \n",
    "            legend_list =[]\n",
    "\n",
    "            fig, ax = plt.subplots(1,1,figsize=(10,6))\n",
    "            \n",
    "            x_vals = sentiments_pd[\"Tweets Ago\"]\n",
    "            y_vals = sentiments_pd[\"Compound\"]\n",
    "            #plt.plot(x_vals, y_vals, linewidth=1, marker='o', color='r')\n",
    "            leg, = plt.plot(x_vals, y_vals, linewidth=1, marker='o', color='r')\n",
    "            legend_list.append(leg)\n",
    "    \n",
    "            \n",
    "            \n",
    "            # # Incorporate the other graph properties\n",
    "            now = datetime.now()\n",
    "            now = now.strftime(\"%Y-%m-%d %H:%M\")\n",
    "            plt.title(f\"Sentiment Analysis of Tweets ({now}) for {target_account}\")\n",
    "            plt.xlim([x_vals.max(),x_vals.min()]) \n",
    "            plt.ylabel(\"Tweet Polarity\")\n",
    "            plt.xlabel(\"Tweets Ago\")\n",
    "            \n",
    "            legen = plt.legend(handles = legend_list)\n",
    "            legen.get_texts()[0].set_text('sentiment of tweets for '+target_account)\n",
    "\n",
    "            plt.show()\n",
    "            \n",
    "            \n",
    "            fig.savefig(f\"sentiment_analysis.png\")\n",
    "            \n",
    "            #api.update_with_media(\"sentiment_analysis.png\", f\"Sentiment analysis for {target_account} (thx @{helper}!)\" )\n",
    "            #api.update_status(f\"Thank you! @{helper}\")\n",
    "            \n",
    "\n",
    "        else:\n",
    "            print(\"already analyzed \"+target_account)\n",
    "    \n",
    "    except (IndexError,tweepy.TweepError):\n",
    "        print(\"nothing found\")\n",
    "\n",
    "        \n",
    "\n",
    "\n"
   ]
  },
  {
   "cell_type": "code",
   "execution_count": 121,
   "metadata": {},
   "outputs": [
    {
     "name": "stdout",
     "output_type": "stream",
     "text": [
      "analysis for target_account: @Wikipedia at the request of @Tianyu Tao\n",
      "already analyzed @Wikipedia\n",
      "\n",
      "\n",
      "analysis for target_account: @Wikipedia at the request of @Tianyu Tao\n",
      "already analyzed @Wikipedia\n",
      "\n",
      "\n"
     ]
    }
   ],
   "source": [
    "# let the bot run 100 times, waiting 5 min between each time\n",
    "counter = 0\n",
    "while(counter < 100):\n",
    "    TweetBot()\n",
    "    print(\"\\n\")\n",
    "    time.sleep(300)\n",
    "    counter += 1"
   ]
  },
  {
   "cell_type": "code",
   "execution_count": null,
   "metadata": {},
   "outputs": [],
   "source": []
  },
  {
   "cell_type": "code",
   "execution_count": null,
   "metadata": {},
   "outputs": [],
   "source": []
  }
 ],
 "metadata": {
  "kernelspec": {
   "display_name": "Python [conda env:PythonData]",
   "language": "python",
   "name": "conda-env-PythonData-py"
  },
  "language_info": {
   "codemirror_mode": {
    "name": "ipython",
    "version": 3
   },
   "file_extension": ".py",
   "mimetype": "text/x-python",
   "name": "python",
   "nbconvert_exporter": "python",
   "pygments_lexer": "ipython3",
   "version": "3.6.5"
  },
  "varInspector": {
   "cols": {
    "lenName": 16,
    "lenType": 16,
    "lenVar": 40
   },
   "kernels_config": {
    "python": {
     "delete_cmd_postfix": "",
     "delete_cmd_prefix": "del ",
     "library": "var_list.py",
     "varRefreshCmd": "print(var_dic_list())"
    },
    "r": {
     "delete_cmd_postfix": ") ",
     "delete_cmd_prefix": "rm(",
     "library": "var_list.r",
     "varRefreshCmd": "cat(var_dic_list()) "
    }
   },
   "types_to_exclude": [
    "module",
    "function",
    "builtin_function_or_method",
    "instance",
    "_Feature"
   ],
   "window_display": false
  }
 },
 "nbformat": 4,
 "nbformat_minor": 2
}
